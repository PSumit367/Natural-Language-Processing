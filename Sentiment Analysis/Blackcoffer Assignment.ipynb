{
 "cells": [
  {
   "cell_type": "code",
   "execution_count": 1,
   "id": "1832b8be",
   "metadata": {},
   "outputs": [],
   "source": [
    "import pandas as pd\n",
    "import numpy as np\n",
    "import matplotlib as plt"
   ]
  },
  {
   "cell_type": "code",
   "execution_count": 2,
   "id": "04f10fef",
   "metadata": {},
   "outputs": [
    {
     "name": "stdout",
     "output_type": "stream",
     "text": [
      "<class 'pandas.core.frame.DataFrame'>\n",
      "RangeIndex: 114 entries, 0 to 113\n",
      "Data columns (total 2 columns):\n",
      " #   Column  Non-Null Count  Dtype  \n",
      "---  ------  --------------  -----  \n",
      " 0   URL_ID  114 non-null    float64\n",
      " 1   URL     114 non-null    object \n",
      "dtypes: float64(1), object(1)\n",
      "memory usage: 1.9+ KB\n"
     ]
    },
    {
     "data": {
      "text/html": [
       "<div>\n",
       "<style scoped>\n",
       "    .dataframe tbody tr th:only-of-type {\n",
       "        vertical-align: middle;\n",
       "    }\n",
       "\n",
       "    .dataframe tbody tr th {\n",
       "        vertical-align: top;\n",
       "    }\n",
       "\n",
       "    .dataframe thead th {\n",
       "        text-align: right;\n",
       "    }\n",
       "</style>\n",
       "<table border=\"1\" class=\"dataframe\">\n",
       "  <thead>\n",
       "    <tr style=\"text-align: right;\">\n",
       "      <th></th>\n",
       "      <th>URL_ID</th>\n",
       "      <th>URL</th>\n",
       "    </tr>\n",
       "  </thead>\n",
       "  <tbody>\n",
       "    <tr>\n",
       "      <th>0</th>\n",
       "      <td>123.0</td>\n",
       "      <td>https://insights.blackcoffer.com/rise-of-telem...</td>\n",
       "    </tr>\n",
       "    <tr>\n",
       "      <th>1</th>\n",
       "      <td>321.0</td>\n",
       "      <td>https://insights.blackcoffer.com/rise-of-e-hea...</td>\n",
       "    </tr>\n",
       "    <tr>\n",
       "      <th>2</th>\n",
       "      <td>2345.0</td>\n",
       "      <td>https://insights.blackcoffer.com/rise-of-e-hea...</td>\n",
       "    </tr>\n",
       "    <tr>\n",
       "      <th>3</th>\n",
       "      <td>4321.0</td>\n",
       "      <td>https://insights.blackcoffer.com/rise-of-telem...</td>\n",
       "    </tr>\n",
       "    <tr>\n",
       "      <th>4</th>\n",
       "      <td>432.0</td>\n",
       "      <td>https://insights.blackcoffer.com/rise-of-telem...</td>\n",
       "    </tr>\n",
       "  </tbody>\n",
       "</table>\n",
       "</div>"
      ],
      "text/plain": [
       "   URL_ID                                                URL\n",
       "0   123.0  https://insights.blackcoffer.com/rise-of-telem...\n",
       "1   321.0  https://insights.blackcoffer.com/rise-of-e-hea...\n",
       "2  2345.0  https://insights.blackcoffer.com/rise-of-e-hea...\n",
       "3  4321.0  https://insights.blackcoffer.com/rise-of-telem...\n",
       "4   432.0  https://insights.blackcoffer.com/rise-of-telem..."
      ]
     },
     "execution_count": 2,
     "metadata": {},
     "output_type": "execute_result"
    }
   ],
   "source": [
    "df = pd.read_excel('C:/Users/user/OneDrive/Desktop/Assignments/Blackcoffer/Input.xlsx')\n",
    "df.info()\n",
    "df.head()"
   ]
  },
  {
   "cell_type": "code",
   "execution_count": 3,
   "id": "6afc9871",
   "metadata": {
    "scrolled": false
   },
   "outputs": [
    {
     "name": "stdout",
     "output_type": "stream",
     "text": [
      "COVID 19 has bought the world to its knees. With businesses being shut, travel being banned, schools, and colleges being closed, we have observed an impeccable amount of sorrow and despise along with a great amount of mental torture and destruction. Though situations are improving now, and the lockdowns are being lifted, it is a fact that it cannot be shunned that this virus will have a long term impact on people, and the effects will not only be felt economically and physically but also mentally.\n",
      "\n",
      "We’ve been reading articles regarding the impact of COVID 19 on the economy, education, mental health, and every other possible aspect. But one topic which has not been talked about much is the impact of COVID 19 on office space and co-working industries. Well, it is quite obvious that offices will start functioning now, but, the COVID period hasn’t ended. This means that social distancing will also have to be followed in offices; where it will be a problem to do so because of the lack of adequate infrastructure and space. The same will be the condition in co-working industries, wherein employees of different companies come and work together under the same roof.\n",
      "\n",
      "However, these problems are quite obvious (though people haven’t thought about them much), but the fact which people fail to notice and understand is that the meaning of space is not only limited to infrastructural space which is measured in square foot or square meters; but it also extends to metal space, or for that fact, space in the minds of people for others and their thoughts as well as opinions.\n",
      "\n",
      "Coronavirus has left a big scratch in our country; just the way a car needs repair after an accident, our country will also need repair after the control of this virus. But, unlike a car, our country will require a large amount of time to get restored and to stand straight without any support.\n",
      "\n",
      "Needless to say, the economic stability of our country will definitely be hit because of this reason. But the problem is since the earnings of the employers will reduce, it will subsequently lead to a drop in the salary of the employees. While some employees might be preferred by their bosses and may receive a raise regularly, others might be subjected to unfair treatment and made to do the same amount of work for a lower salary.\n",
      "\n",
      "People tend to overlook the thin line which exists between cooperation and competition. The problem doesn’t arise when such a situation happens wherein an employee is getting paid more than the other, but instead, it arises when people start to compare their earnings as well as benefits to that of others. And in today’s world, where people keep money at the top of their priority list, comparisons will play a very important role in the performance of employees and their company.\n",
      "\n",
      "Since there will exist inequalities and partialities in companies, there will also exist a sense of hatred and competition among the employees of the same company; who will compete to get a better position or a raise in their salary. This may seem beneficial to some as it might compel the employees to work harder and better, but however, will bring huge losses in the long run. The fact is; employees might end up doing unethical acts which will help them to make a better impression in their boss’s eyes.\n",
      "\n",
      "Moreover, since there will be comparisons among the employees, it might happen that the ‘Employee of the Month’ ends up being hated by all other employees in the company. Another situation that might arise is that of bluffing and pretending; wherein employees tend to show that they work very hard but they don’t. This might be practiced by showing the boss that they are working when he is on around, and then chilling the rest of the time when the boss goes home or sits in his office. In fact, employees might also lose interest in working if they sense repeated partialities and inequalities; which they might show by quitting the jobs or not performing to their best.\n",
      "\n",
      "Such situations will definitely arise in companies and offices; wherein employees will compete for attention and resources; which will have a great impact on the company and its functioning. And all this will happen because of only one thing; lack of office mental space i.e. space in the minds of people working together in a particular office for cooperation and teamwork, along with ignorance of the fact that things will get better and eventually the same after some time.\n",
      "\n",
      "Another kind of industry and companies that will be affected due to the long-lasting impact of COVID 19 is the co-working industry and offices. This is because, there will be a shortage of resources and the income of people, but the maintenance cost to be born for the infrastructure, as well the rent will remain the same. Because of this, employees will be told by the company owners to exploit the resources present in the offices and use them to the fullest; to compensate for the losses being born and to make better use of the money being used. However, the number of resources will be the same, and so, there will be a case of competition between employees of different companies to use resources and take benefits of the same.\n",
      "\n",
      "If the above two situations happen to occur at the same time (which they most likely will), we will observe a scene of intra-company as well as inter-company competition. Also, our personal relations with other employees in the company might also be affected due to this comparison and competition; which itself will be a result of limited mental space.\n",
      "\n",
      "COVID 19 will have severe impacts on the office (mental) space of companies and people. People’s thoughts, how they treat others, along with accepting defeat and rejection will be an important aspect of everyone’s lives. Moreover, we might also observe a shoot in the intensity and frequency of office people going to psychologists; because of repeated rejection and unfair treatment. However, we need to cope with this thing and realize that it is indeed very important for us to start preparing to expand our mental space and that this competition and comparison will not stay for long and should not affect our personal relations and life at any cost.\n",
      "\n",
      "Blackcoffer Insights 18: Archit Khandelwal, Shishukunj International School, Indore\n"
     ]
    }
   ],
   "source": [
    "import newspaper\n",
    "from newspaper import Article\n",
    " \n",
    "# Assign single url\n",
    "url ='https://insights.blackcoffer.com/impact-of-covid-19-pandemic-on-office-space-and-co-working-industries/'\n",
    " \n",
    "# Extract web data\n",
    "url_i = newspaper.Article(url=\"%s\" % (url), language='en')\n",
    "url_i.download()\n",
    "url_i.parse()\n",
    "print(url_i.text)"
   ]
  },
  {
   "cell_type": "code",
   "execution_count": 4,
   "id": "88973c95",
   "metadata": {},
   "outputs": [
    {
     "data": {
      "text/html": [
       "<div>\n",
       "<style scoped>\n",
       "    .dataframe tbody tr th:only-of-type {\n",
       "        vertical-align: middle;\n",
       "    }\n",
       "\n",
       "    .dataframe tbody tr th {\n",
       "        vertical-align: top;\n",
       "    }\n",
       "\n",
       "    .dataframe thead th {\n",
       "        text-align: right;\n",
       "    }\n",
       "</style>\n",
       "<table border=\"1\" class=\"dataframe\">\n",
       "  <thead>\n",
       "    <tr style=\"text-align: right;\">\n",
       "      <th></th>\n",
       "      <th>URL_ID</th>\n",
       "      <th>URL</th>\n",
       "      <th>text</th>\n",
       "    </tr>\n",
       "  </thead>\n",
       "  <tbody>\n",
       "    <tr>\n",
       "      <th>0</th>\n",
       "      <td>123.0</td>\n",
       "      <td>https://insights.blackcoffer.com/rise-of-telem...</td>\n",
       "      <td>Telemedicine, the use of technology to diagnos...</td>\n",
       "    </tr>\n",
       "    <tr>\n",
       "      <th>1</th>\n",
       "      <td>321.0</td>\n",
       "      <td>https://insights.blackcoffer.com/rise-of-e-hea...</td>\n",
       "      <td>The rise of e-health, or the use of electronic...</td>\n",
       "    </tr>\n",
       "    <tr>\n",
       "      <th>2</th>\n",
       "      <td>2345.0</td>\n",
       "      <td>https://insights.blackcoffer.com/rise-of-e-hea...</td>\n",
       "      <td>2020 was the year the world was ravaged by the...</td>\n",
       "    </tr>\n",
       "    <tr>\n",
       "      <th>3</th>\n",
       "      <td>4321.0</td>\n",
       "      <td>https://insights.blackcoffer.com/rise-of-telem...</td>\n",
       "      <td>“More gains on quality, affordability and acce...</td>\n",
       "    </tr>\n",
       "    <tr>\n",
       "      <th>4</th>\n",
       "      <td>432.0</td>\n",
       "      <td>https://insights.blackcoffer.com/rise-of-telem...</td>\n",
       "      <td>“More gains on quality, affordability and acce...</td>\n",
       "    </tr>\n",
       "    <tr>\n",
       "      <th>5</th>\n",
       "      <td>2893.8</td>\n",
       "      <td>https://insights.blackcoffer.com/rise-of-chatb...</td>\n",
       "      <td>The human race is known to come up with invent...</td>\n",
       "    </tr>\n",
       "    <tr>\n",
       "      <th>6</th>\n",
       "      <td>3355.6</td>\n",
       "      <td>https://insights.blackcoffer.com/rise-of-e-hea...</td>\n",
       "      <td>Introduction\\n\\nThe phrase “e-health” refers t...</td>\n",
       "    </tr>\n",
       "    <tr>\n",
       "      <th>7</th>\n",
       "      <td>3817.4</td>\n",
       "      <td>https://insights.blackcoffer.com/how-does-mark...</td>\n",
       "      <td>Marketing can be defined as an act of promotio...</td>\n",
       "    </tr>\n",
       "    <tr>\n",
       "      <th>8</th>\n",
       "      <td>4279.2</td>\n",
       "      <td>https://insights.blackcoffer.com/how-advertise...</td>\n",
       "      <td>Advertising allows companies to differentiate ...</td>\n",
       "    </tr>\n",
       "    <tr>\n",
       "      <th>9</th>\n",
       "      <td>4741.0</td>\n",
       "      <td>https://insights.blackcoffer.com/negative-effe...</td>\n",
       "      <td>“Society can exist without Marketing, but Mark...</td>\n",
       "    </tr>\n",
       "  </tbody>\n",
       "</table>\n",
       "</div>"
      ],
      "text/plain": [
       "   URL_ID                                                URL  \\\n",
       "0   123.0  https://insights.blackcoffer.com/rise-of-telem...   \n",
       "1   321.0  https://insights.blackcoffer.com/rise-of-e-hea...   \n",
       "2  2345.0  https://insights.blackcoffer.com/rise-of-e-hea...   \n",
       "3  4321.0  https://insights.blackcoffer.com/rise-of-telem...   \n",
       "4   432.0  https://insights.blackcoffer.com/rise-of-telem...   \n",
       "5  2893.8  https://insights.blackcoffer.com/rise-of-chatb...   \n",
       "6  3355.6  https://insights.blackcoffer.com/rise-of-e-hea...   \n",
       "7  3817.4  https://insights.blackcoffer.com/how-does-mark...   \n",
       "8  4279.2  https://insights.blackcoffer.com/how-advertise...   \n",
       "9  4741.0  https://insights.blackcoffer.com/negative-effe...   \n",
       "\n",
       "                                                text  \n",
       "0  Telemedicine, the use of technology to diagnos...  \n",
       "1  The rise of e-health, or the use of electronic...  \n",
       "2  2020 was the year the world was ravaged by the...  \n",
       "3  “More gains on quality, affordability and acce...  \n",
       "4  “More gains on quality, affordability and acce...  \n",
       "5  The human race is known to come up with invent...  \n",
       "6  Introduction\\n\\nThe phrase “e-health” refers t...  \n",
       "7  Marketing can be defined as an act of promotio...  \n",
       "8  Advertising allows companies to differentiate ...  \n",
       "9  “Society can exist without Marketing, but Mark...  "
      ]
     },
     "execution_count": 4,
     "metadata": {},
     "output_type": "execute_result"
    }
   ],
   "source": [
    "articles=[]\n",
    "for url in df['URL']:\n",
    "    try:\n",
    "        url_i = newspaper.Article(url=\"%s\" % (url), language='en')\n",
    "        url_i.download()\n",
    "        url_i.parse()\n",
    "        articles.append(url_i.text)\n",
    "    except:\n",
    "        articles.append('')   \n",
    "df['text']=articles\n",
    "df.head(10)"
   ]
  },
  {
   "cell_type": "markdown",
   "id": "ebca6eb8",
   "metadata": {},
   "source": [
    "### Text Cleaning"
   ]
  },
  {
   "cell_type": "code",
   "execution_count": 6,
   "id": "0f5aca83",
   "metadata": {},
   "outputs": [],
   "source": [
    "import re\n",
    "import string\n",
    "import os\n",
    "import nltk\n",
    "from nltk.corpus import stopwords\n",
    "from nltk.tokenize import word_tokenize"
   ]
  },
  {
   "cell_type": "code",
   "execution_count": 9,
   "id": "52b25abf",
   "metadata": {},
   "outputs": [
    {
     "data": {
      "text/plain": [
       "0      Telemedicine use technology diagnose treat pat...\n",
       "1      rise e-health use electronic means facilitate ...\n",
       "2      year world ravaged SarsCov virus notorious vir...\n",
       "3      gains quality affordability accessibility way ...\n",
       "4      gains quality affordability accessibility way ...\n",
       "                             ...                        \n",
       "109    jumping topic would like give overview Coronav...\n",
       "110    coronavirus spreads around world countries imp...\n",
       "111    Alibaba Ping Google Ford companies around glob...\n",
       "112    British ruled India many Indians accepted work...\n",
       "113    business business longer business increase bot...\n",
       "Name: t_text, Length: 114, dtype: object"
      ]
     },
     "execution_count": 9,
     "metadata": {},
     "output_type": "execute_result"
    }
   ],
   "source": [
    "# Tokenizer\n",
    "\n",
    "def transform(text):\n",
    "    text = re.sub(r'[^a-zA-Z-]', ' ', text)\n",
    "    text = re.sub(r'\\s+', ' ', text)\n",
    "    texts =text.split()\n",
    "    filtered_tokens = [word for word in texts if word.lower() not in stopwords.words('english')]\n",
    "    return' '.join(filtered_tokens) \n",
    "\n",
    "df['t_text']=df['text'].apply(transform)\n",
    "df.t_text"
   ]
  },
  {
   "cell_type": "markdown",
   "id": "78f011c0",
   "metadata": {},
   "source": [
    "## Average Number of Words Per Sentence"
   ]
  },
  {
   "cell_type": "code",
   "execution_count": 54,
   "id": "33a46219",
   "metadata": {},
   "outputs": [
    {
     "data": {
      "text/plain": [
       "0      12.512500\n",
       "1      13.280000\n",
       "2       8.884058\n",
       "3      12.433333\n",
       "4      12.433333\n",
       "         ...    \n",
       "109    12.837838\n",
       "110    21.420000\n",
       "111    14.585714\n",
       "112    13.237288\n",
       "113    14.553191\n",
       "Name: Average_number_of_words_per_sentence, Length: 114, dtype: float64"
      ]
     },
     "execution_count": 54,
     "metadata": {},
     "output_type": "execute_result"
    }
   ],
   "source": [
    "# Calculate Word Count\n",
    "df['word_count'] = df['t_text'].apply(lambda x: len(str(x).split()))\n",
    "\n",
    "def Average_words_per_sentence(df):\n",
    "    word_count = df['word_count']       \n",
    "    sentence_count = len(nltk.sent_tokenize(df['text']))\n",
    "    if sentence_count != 0:\n",
    "        return word_count / sentence_count\n",
    "    else:\n",
    "        return 0\n",
    "\n",
    "df['Average_number_of_words_per_sentence'] = df.apply(Average_words_per_sentence, axis=1)\n",
    "df.Average_number_of_words_per_sentence"
   ]
  },
  {
   "cell_type": "markdown",
   "id": "2586e63c",
   "metadata": {},
   "source": [
    "## Average Words Length "
   ]
  },
  {
   "cell_type": "code",
   "execution_count": 55,
   "id": "946bfaae",
   "metadata": {},
   "outputs": [
    {
     "data": {
      "text/plain": [
       "0      8.387612\n",
       "1      8.704819\n",
       "2      8.109299\n",
       "3      8.183646\n",
       "4      8.183646\n",
       "         ...   \n",
       "109    7.802105\n",
       "110    7.555556\n",
       "111    7.946131\n",
       "112    7.718310\n",
       "113    8.559942\n",
       "Name: Avg_Word_length, Length: 114, dtype: float64"
      ]
     },
     "execution_count": 55,
     "metadata": {},
     "output_type": "execute_result"
    }
   ],
   "source": [
    "Character_length = df['t_text'].apply(lambda x: sum(len(word) for word in x))\n",
    "df['Avg_Word_length'] = np.nan\n",
    "\n",
    "for i in range(0,len(df)):\n",
    "    df['Avg_Word_length'] = df['t_text'].apply(lambda x: sum(len(word) for word in x))/df['t_text'].apply(lambda x: len(str(x).split()))\n",
    "    \n",
    "df.Avg_Word_length"
   ]
  },
  {
   "cell_type": "markdown",
   "id": "c3cccaf9",
   "metadata": {},
   "source": [
    "## Complex Word Count"
   ]
  },
  {
   "cell_type": "code",
   "execution_count": 12,
   "id": "956d9e28",
   "metadata": {},
   "outputs": [
    {
     "data": {
      "text/plain": [
       "0      588\n",
       "1      211\n",
       "2      317\n",
       "3      395\n",
       "4      395\n",
       "      ... \n",
       "109    214\n",
       "110    412\n",
       "111    490\n",
       "112    347\n",
       "113    384\n",
       "Name: complex_word_count, Length: 114, dtype: int64"
      ]
     },
     "execution_count": 12,
     "metadata": {},
     "output_type": "execute_result"
    }
   ],
   "source": [
    "def complex_word_count(text):\n",
    "    vowels = 'aeiou'                  # Required syllables\n",
    "    count = 0\n",
    "    for i in text.split():\n",
    "        syllables = 0\n",
    "        for j in i:\n",
    "            if j in vowels:\n",
    "                syllables += 1\n",
    "        if syllables > 2:\n",
    "            count += 1\n",
    "    return count\n",
    "\n",
    "df['complex_word_count'] = df['t_text'].apply(complex_word_count)\n",
    "df.complex_word_count"
   ]
  },
  {
   "cell_type": "markdown",
   "id": "bcad4151",
   "metadata": {},
   "source": [
    "## Syllable Count per Word"
   ]
  },
  {
   "cell_type": "code",
   "execution_count": 56,
   "id": "02a02c60",
   "metadata": {},
   "outputs": [
    {
     "data": {
      "text/plain": [
       "0      2.678322\n",
       "1      2.629518\n",
       "2      2.199021\n",
       "3      2.325737\n",
       "4      2.325737\n",
       "         ...   \n",
       "109    2.176842\n",
       "110    2.100840\n",
       "111    2.245837\n",
       "112    2.183099\n",
       "113    2.396199\n",
       "Name: Syllable_Count_Per_Word, Length: 114, dtype: float64"
      ]
     },
     "execution_count": 56,
     "metadata": {},
     "output_type": "execute_result"
    }
   ],
   "source": [
    "def Syllable_Count_Per_Word(text):\n",
    "    vowels = 'aeiou'\n",
    "    word_count = len(text.split())\n",
    "    total_syllables = 0\n",
    "\n",
    "    for word in text.split():\n",
    "        if re.search(r'\\b\\w+es\\b|\\b\\w+ed\\b', word):\n",
    "            continue\n",
    "        else:\n",
    "            syllables = 0\n",
    "            for i in word:\n",
    "                if i in vowels:\n",
    "                    syllables += 1\n",
    "            total_syllables += syllables\n",
    "\n",
    "    if word_count > 0:\n",
    "        return total_syllables / word_count\n",
    "    else:\n",
    "        return 0\n",
    "\n",
    "df['Syllable_Count_Per_Word'] = df['t_text'].apply(Syllable_Count_Per_Word)\n",
    "df.Syllable_Count_Per_Word"
   ]
  },
  {
   "cell_type": "markdown",
   "id": "9df532c5",
   "metadata": {},
   "source": [
    "## Personal Pronoun Count"
   ]
  },
  {
   "cell_type": "code",
   "execution_count": 14,
   "id": "9b1e349c",
   "metadata": {},
   "outputs": [
    {
     "data": {
      "text/plain": [
       "0      2\n",
       "1      3\n",
       "2      3\n",
       "3      7\n",
       "4      7\n",
       "      ..\n",
       "109    1\n",
       "110    3\n",
       "111    0\n",
       "112    8\n",
       "113    1\n",
       "Name: personal_pronoun_count, Length: 114, dtype: int64"
      ]
     },
     "execution_count": 14,
     "metadata": {},
     "output_type": "execute_result"
    }
   ],
   "source": [
    "df['personal_pronoun_count']=np.nan\n",
    "\n",
    "for i in range(0,len(df)):\n",
    "    df['personal_pronoun_count'] = df['text'].apply(lambda x: sum(1 for word in nltk.word_tokenize(x) if word.lower() in ['i', 'we', 'my', 'ours', 'us']))\n",
    "\n",
    "df.personal_pronoun_count"
   ]
  },
  {
   "cell_type": "markdown",
   "id": "d9ee7aa2",
   "metadata": {},
   "source": [
    "## Analysis of Readability "
   ]
  },
  {
   "cell_type": "raw",
   "id": "f23eac6d",
   "metadata": {},
   "source": [
    "#  Analysis of Readability is calculated using the Gunning Fox index formula described below.\n",
    "#  Average Sentence Length = the number of words / the number of sentences\n",
    "#  Percentage of Complex words = the number of complex words / the number of words \n",
    "#  Fog Index = 0.4 * (Average Sentence Length + Percentage of Complex words)"
   ]
  },
  {
   "cell_type": "code",
   "execution_count": 57,
   "id": "f27901f5",
   "metadata": {},
   "outputs": [],
   "source": [
    "def calculation_metrics(df):\n",
    "    word_count = df['word_count']\n",
    "    sentence_count = len(nltk.sent_tokenize(df['text']))\n",
    "    complex_word_count = df['complex_word_count']\n",
    "\n",
    "    if sentence_count != 0:\n",
    "        df['Average_Sentence_Length'] = word_count / sentence_count\n",
    "    else:\n",
    "        df['Average_Sentence_Length'] = 0\n",
    "\n",
    "    if word_count != 0:\n",
    "        df['Percentage_of_Complex_words'] = complex_word_count / word_count\n",
    "    else:\n",
    "        df['Percentage_of_Complex_words'] = 0\n",
    "\n",
    "    df['Fog_Index'] = 0.4 * (df['Average_Sentence_Length'] + df['Percentage_of_Complex_words'])\n",
    "\n",
    "    return df\n",
    "\n",
    "df = df.apply(calculation_metrics, axis=1)\n"
   ]
  },
  {
   "cell_type": "code",
   "execution_count": 58,
   "id": "a049fba4",
   "metadata": {},
   "outputs": [
    {
     "data": {
      "text/plain": [
       "0      12.512500\n",
       "1      13.280000\n",
       "2       8.884058\n",
       "3      12.433333\n",
       "4      12.433333\n",
       "         ...    \n",
       "109    12.837838\n",
       "110    21.420000\n",
       "111    14.585714\n",
       "112    13.237288\n",
       "113    14.553191\n",
       "Name: Average_Sentence_Length, Length: 114, dtype: float64"
      ]
     },
     "execution_count": 58,
     "metadata": {},
     "output_type": "execute_result"
    }
   ],
   "source": [
    "df.Average_Sentence_Length"
   ]
  },
  {
   "cell_type": "code",
   "execution_count": 59,
   "id": "2561b866",
   "metadata": {},
   "outputs": [
    {
     "data": {
      "text/plain": [
       "0      0.587413\n",
       "1      0.635542\n",
       "2      0.517129\n",
       "3      0.529491\n",
       "4      0.529491\n",
       "         ...   \n",
       "109    0.450526\n",
       "110    0.384687\n",
       "111    0.479922\n",
       "112    0.444302\n",
       "113    0.561404\n",
       "Name: Percentage_of_Complex_words, Length: 114, dtype: float64"
      ]
     },
     "execution_count": 59,
     "metadata": {},
     "output_type": "execute_result"
    }
   ],
   "source": [
    "df.Percentage_of_Complex_words"
   ]
  },
  {
   "cell_type": "code",
   "execution_count": 60,
   "id": "5112e18c",
   "metadata": {},
   "outputs": [
    {
     "data": {
      "text/plain": [
       "0      5.239965\n",
       "1      5.566217\n",
       "2      3.760475\n",
       "3      5.185130\n",
       "4      5.185130\n",
       "         ...   \n",
       "109    5.315346\n",
       "110    8.721875\n",
       "111    6.026254\n",
       "112    5.472636\n",
       "113    6.045838\n",
       "Name: Fog_Index, Length: 114, dtype: float64"
      ]
     },
     "execution_count": 60,
     "metadata": {},
     "output_type": "execute_result"
    }
   ],
   "source": [
    "df.Fog_Index"
   ]
  },
  {
   "cell_type": "markdown",
   "id": "739ebfd0",
   "metadata": {},
   "source": [
    "## Sentimental Analysis"
   ]
  },
  {
   "cell_type": "code",
   "execution_count": 19,
   "id": "472435f1",
   "metadata": {},
   "outputs": [],
   "source": [
    "file_path=\"C:/Users/user/OneDrive/Desktop/Assignments/Blackcoffer/StopWords\"\n",
    "def read_text_file(file_path):\n",
    "    with open(file_path, 'r') as f:\n",
    "        print(f.read()) "
   ]
  },
  {
   "cell_type": "code",
   "execution_count": 20,
   "id": "44718f34",
   "metadata": {},
   "outputs": [],
   "source": [
    "stop_words = []\n",
    "for i in os.listdir(file_path):\n",
    "    with open(os.path.join(file_path, i), 'r') as f:\n",
    "        words = f.read().splitlines()\n",
    "        stop_words.extend(words)"
   ]
  },
  {
   "cell_type": "code",
   "execution_count": 24,
   "id": "bbc1d3d1",
   "metadata": {},
   "outputs": [],
   "source": [
    "stop_words = [word.lower() for word in stop_words] \n",
    "stopword = nltk.corpus.stopwords.words('english')\n",
    "stop_words.extend(stopword)     "
   ]
  },
  {
   "cell_type": "code",
   "execution_count": 25,
   "id": "a2dffbd7",
   "metadata": {},
   "outputs": [
    {
     "data": {
      "text/plain": [
       "0      [telemedicine, technology, diagnose, patients,...\n",
       "1      [rise, e-health, electronic, facilitate, healt...\n",
       "2      [world, ravaged, sarscov, virus, notorious, vi...\n",
       "3      [gains, quality, affordability, accessibility,...\n",
       "4      [gains, quality, affordability, accessibility,...\n",
       "                             ...                        \n",
       "109    [jumping, topic, give, overview, coronavirus, ...\n",
       "110    [coronavirus, spreads, world, countries, imple...\n",
       "111    [alibaba, google, companies, globe, telling, s...\n",
       "112    [ruled, indians, accepted, work, policy, rebel...\n",
       "113    [business, business, longer, business, increas...\n",
       "Name: s_text, Length: 114, dtype: object"
      ]
     },
     "execution_count": 25,
     "metadata": {},
     "output_type": "execute_result"
    }
   ],
   "source": [
    "# Text cleaning using updated stopwords\n",
    "def transform(text):\n",
    "    text = re.sub(r'[^a-zA-Z-]', ' ', text)\n",
    "    text = re.sub(r'\\s+', ' ', text)\n",
    "    tokens = word_tokenize(text.lower())\n",
    "    filtered_tokens = [word for word in tokens if word not in stop_words]\n",
    "    return filtered_tokens\n",
    "\n",
    "df['s_text']=df['text'].apply(transform)\n",
    "df.s_text"
   ]
  },
  {
   "cell_type": "code",
   "execution_count": 26,
   "id": "7c844ef7",
   "metadata": {},
   "outputs": [],
   "source": [
    "sentiment=\"C:/Users/user/OneDrive/Desktop/Assignments/Blackcoffer/MasterDictionary\"\n",
    "def read_text_file(sentiment):\n",
    "    with open(sentiment, 'r') as word:\n",
    "        print(word.read())"
   ]
  },
  {
   "cell_type": "code",
   "execution_count": 27,
   "id": "535b645a",
   "metadata": {},
   "outputs": [],
   "source": [
    "positive=set()\n",
    "negative=set()\n",
    "\n",
    "for i in os.listdir(sentiment):\n",
    "    if i =='positive-words.txt':\n",
    "        with open(os.path.join(sentiment,i),'r') as f:\n",
    "          positive.update(set(f.read().splitlines()))\n",
    "    else:\n",
    "        with open(os.path.join(sentiment,i),'r') as f:\n",
    "          negative.update(set(f.read().splitlines()))"
   ]
  },
  {
   "cell_type": "markdown",
   "id": "a99c9e10",
   "metadata": {},
   "source": [
    "### Positive/Negative Words"
   ]
  },
  {
   "cell_type": "code",
   "execution_count": 28,
   "id": "02664ceb",
   "metadata": {},
   "outputs": [],
   "source": [
    "Positive_words=[]\n",
    "Negative_words=[]\n",
    "for i in range(0,len(df['s_text'])):\n",
    "  Positive_words.append([word for word in df['s_text'][i] if word.lower() in positive])\n",
    "  Negative_words.append([word for word in df['s_text'][i] if word.lower() in negative])        "
   ]
  },
  {
   "cell_type": "markdown",
   "id": "17cbbbad",
   "metadata": {},
   "source": [
    "### Positive/Negative Score"
   ]
  },
  {
   "cell_type": "code",
   "execution_count": 29,
   "id": "942b5e3a",
   "metadata": {},
   "outputs": [],
   "source": [
    "Positive_score=[]\n",
    "Negative_score=[]\n",
    "for i in range(0,len(df['s_text'])):\n",
    "    Positive_score.append(len(Positive_words[i]))\n",
    "    Negative_score.append(len(Negative_words[i]))"
   ]
  },
  {
   "cell_type": "markdown",
   "id": "6afa550c",
   "metadata": {},
   "source": [
    "### Polarity/ Subjectivity Score"
   ]
  },
  {
   "cell_type": "code",
   "execution_count": 30,
   "id": "a45e9c7c",
   "metadata": {},
   "outputs": [],
   "source": [
    "# Polarity Score = (Positive Score – Negative Score)/ ((Positive Score + Negative Score) + 0.000001)\n",
    "# Subjectivity Score = (Positive Score + Negative Score)/ ((Total Words after cleaning) + 0.000001)\n",
    "\n",
    "Polarity_score=[]\n",
    "Subjectivity_score=[]\n",
    "for i in range(0,len(df['t_text'])):\n",
    "    Polarity_score.append((Positive_score[i] - Negative_score[i]) / ((Positive_score[i] + Negative_score[i]) + 0.000001))\n",
    "    Subjectivity_score.append((Positive_score[i] + Negative_score[i]) / ((len(df['t_text'][i])) + 0.000001))\n",
    "    "
   ]
  },
  {
   "cell_type": "code",
   "execution_count": 31,
   "id": "d487dd35",
   "metadata": {},
   "outputs": [],
   "source": [
    "df['Positive_score']= Positive_score\n",
    "df['Negative_score']= Negative_score\n",
    "df['Polarity_score']= Polarity_score\n",
    "df['Subjectivity_score']= Subjectivity_score"
   ]
  },
  {
   "cell_type": "code",
   "execution_count": 32,
   "id": "263741c2",
   "metadata": {},
   "outputs": [
    {
     "data": {
      "text/plain": [
       "0      80\n",
       "1      38\n",
       "2      18\n",
       "3      35\n",
       "4      35\n",
       "       ..\n",
       "109     5\n",
       "110    21\n",
       "111    85\n",
       "112    26\n",
       "113    50\n",
       "Name: Positive_score, Length: 114, dtype: int64"
      ]
     },
     "execution_count": 32,
     "metadata": {},
     "output_type": "execute_result"
    }
   ],
   "source": [
    "df.Positive_score"
   ]
  },
  {
   "cell_type": "code",
   "execution_count": 33,
   "id": "a8297d3a",
   "metadata": {},
   "outputs": [
    {
     "data": {
      "text/plain": [
       "0      23\n",
       "1      13\n",
       "2      27\n",
       "3      26\n",
       "4      26\n",
       "       ..\n",
       "109    40\n",
       "110    62\n",
       "111    32\n",
       "112    21\n",
       "113    36\n",
       "Name: Negative_score, Length: 114, dtype: int64"
      ]
     },
     "execution_count": 33,
     "metadata": {},
     "output_type": "execute_result"
    }
   ],
   "source": [
    "df.Negative_score"
   ]
  },
  {
   "cell_type": "code",
   "execution_count": 34,
   "id": "ab39035d",
   "metadata": {},
   "outputs": [
    {
     "data": {
      "text/plain": [
       "0      0.553398\n",
       "1      0.490196\n",
       "2     -0.200000\n",
       "3      0.147541\n",
       "4      0.147541\n",
       "         ...   \n",
       "109   -0.777778\n",
       "110   -0.493976\n",
       "111    0.452991\n",
       "112    0.106383\n",
       "113    0.162791\n",
       "Name: Polarity_score, Length: 114, dtype: float64"
      ]
     },
     "execution_count": 34,
     "metadata": {},
     "output_type": "execute_result"
    }
   ],
   "source": [
    "df.Polarity_score"
   ]
  },
  {
   "cell_type": "code",
   "execution_count": 35,
   "id": "f2481174",
   "metadata": {},
   "outputs": [
    {
     "data": {
      "text/plain": [
       "0      0.012268\n",
       "1      0.017647\n",
       "2      0.009053\n",
       "3      0.009992\n",
       "4      0.009992\n",
       "         ...   \n",
       "109    0.012142\n",
       "110    0.010257\n",
       "111    0.014421\n",
       "112    0.007797\n",
       "113    0.014688\n",
       "Name: Subjectivity_score, Length: 114, dtype: float64"
      ]
     },
     "execution_count": 35,
     "metadata": {},
     "output_type": "execute_result"
    }
   ],
   "source": [
    "df.Subjectivity_score"
   ]
  },
  {
   "cell_type": "markdown",
   "id": "c7583864",
   "metadata": {},
   "source": [
    "## Output Data"
   ]
  },
  {
   "cell_type": "code",
   "execution_count": 90,
   "id": "8b3f687f",
   "metadata": {},
   "outputs": [],
   "source": [
    "data = ['URL_ID','URL','Positive_score','Negative_score','Polarity_score','Subjectivity_score',\n",
    "             'Average_Sentence_Length','Percentage_of_Complex_words',\n",
    "             'Fog_Index','Average_number_of_words_per_sentence','complex_word_count',\n",
    "             'word_count','Syllable_Count_Per_Word','personal_pronoun_count','Avg_Word_length']"
   ]
  },
  {
   "cell_type": "code",
   "execution_count": 99,
   "id": "15add28f",
   "metadata": {},
   "outputs": [],
   "source": [
    "output_data = df.drop(['text', 't_text','s_text'], axis=1)"
   ]
  },
  {
   "cell_type": "code",
   "execution_count": 100,
   "id": "8eac40a3",
   "metadata": {},
   "outputs": [],
   "source": [
    "output_data = output_data.reindex(columns=data)"
   ]
  },
  {
   "cell_type": "code",
   "execution_count": 101,
   "id": "986ed25e",
   "metadata": {},
   "outputs": [],
   "source": [
    " URL_ID 24,37,108 does not exists i,e. page does not exist, throughs 404 error\n",
    "# so we are going to drop these rows from the table\n",
    "\n",
    "output_data.drop([24,37,108],axis= 0, inplace=True)"
   ]
  },
  {
   "cell_type": "code",
   "execution_count": 104,
   "id": "65456134",
   "metadata": {},
   "outputs": [],
   "source": [
    "output_data.to_excel('C:/Users/user/OneDrive/Desktop/Output_Data.xlsx')"
   ]
  },
  {
   "cell_type": "code",
   "execution_count": 105,
   "id": "bece458e",
   "metadata": {},
   "outputs": [
    {
     "data": {
      "text/html": [
       "<div>\n",
       "<style scoped>\n",
       "    .dataframe tbody tr th:only-of-type {\n",
       "        vertical-align: middle;\n",
       "    }\n",
       "\n",
       "    .dataframe tbody tr th {\n",
       "        vertical-align: top;\n",
       "    }\n",
       "\n",
       "    .dataframe thead th {\n",
       "        text-align: right;\n",
       "    }\n",
       "</style>\n",
       "<table border=\"1\" class=\"dataframe\">\n",
       "  <thead>\n",
       "    <tr style=\"text-align: right;\">\n",
       "      <th></th>\n",
       "      <th>URL_ID</th>\n",
       "      <th>URL</th>\n",
       "      <th>Positive_score</th>\n",
       "      <th>Negative_score</th>\n",
       "      <th>Polarity_score</th>\n",
       "      <th>Subjectivity_score</th>\n",
       "      <th>Average_Sentence_Length</th>\n",
       "      <th>Percentage_of_Complex_words</th>\n",
       "      <th>Fog_Index</th>\n",
       "      <th>Average_number_of_words_per_sentence</th>\n",
       "      <th>complex_word_count</th>\n",
       "      <th>word_count</th>\n",
       "      <th>Syllable_Count_Per_Word</th>\n",
       "      <th>personal_pronoun_count</th>\n",
       "      <th>Avg_Word_length</th>\n",
       "    </tr>\n",
       "  </thead>\n",
       "  <tbody>\n",
       "    <tr>\n",
       "      <th>0</th>\n",
       "      <td>123.0</td>\n",
       "      <td>https://insights.blackcoffer.com/rise-of-telem...</td>\n",
       "      <td>80</td>\n",
       "      <td>23</td>\n",
       "      <td>0.553398</td>\n",
       "      <td>0.012268</td>\n",
       "      <td>12.512500</td>\n",
       "      <td>0.587413</td>\n",
       "      <td>5.239965</td>\n",
       "      <td>12.512500</td>\n",
       "      <td>588</td>\n",
       "      <td>1001</td>\n",
       "      <td>2.678322</td>\n",
       "      <td>2</td>\n",
       "      <td>8.387612</td>\n",
       "    </tr>\n",
       "    <tr>\n",
       "      <th>1</th>\n",
       "      <td>321.0</td>\n",
       "      <td>https://insights.blackcoffer.com/rise-of-e-hea...</td>\n",
       "      <td>38</td>\n",
       "      <td>13</td>\n",
       "      <td>0.490196</td>\n",
       "      <td>0.017647</td>\n",
       "      <td>13.280000</td>\n",
       "      <td>0.635542</td>\n",
       "      <td>5.566217</td>\n",
       "      <td>13.280000</td>\n",
       "      <td>211</td>\n",
       "      <td>332</td>\n",
       "      <td>2.629518</td>\n",
       "      <td>3</td>\n",
       "      <td>8.704819</td>\n",
       "    </tr>\n",
       "    <tr>\n",
       "      <th>2</th>\n",
       "      <td>2345.0</td>\n",
       "      <td>https://insights.blackcoffer.com/rise-of-e-hea...</td>\n",
       "      <td>18</td>\n",
       "      <td>27</td>\n",
       "      <td>-0.200000</td>\n",
       "      <td>0.009053</td>\n",
       "      <td>8.884058</td>\n",
       "      <td>0.517129</td>\n",
       "      <td>3.760475</td>\n",
       "      <td>8.884058</td>\n",
       "      <td>317</td>\n",
       "      <td>613</td>\n",
       "      <td>2.199021</td>\n",
       "      <td>3</td>\n",
       "      <td>8.109299</td>\n",
       "    </tr>\n",
       "    <tr>\n",
       "      <th>3</th>\n",
       "      <td>4321.0</td>\n",
       "      <td>https://insights.blackcoffer.com/rise-of-telem...</td>\n",
       "      <td>35</td>\n",
       "      <td>26</td>\n",
       "      <td>0.147541</td>\n",
       "      <td>0.009992</td>\n",
       "      <td>12.433333</td>\n",
       "      <td>0.529491</td>\n",
       "      <td>5.185130</td>\n",
       "      <td>12.433333</td>\n",
       "      <td>395</td>\n",
       "      <td>746</td>\n",
       "      <td>2.325737</td>\n",
       "      <td>7</td>\n",
       "      <td>8.183646</td>\n",
       "    </tr>\n",
       "    <tr>\n",
       "      <th>4</th>\n",
       "      <td>432.0</td>\n",
       "      <td>https://insights.blackcoffer.com/rise-of-telem...</td>\n",
       "      <td>35</td>\n",
       "      <td>26</td>\n",
       "      <td>0.147541</td>\n",
       "      <td>0.009992</td>\n",
       "      <td>12.433333</td>\n",
       "      <td>0.529491</td>\n",
       "      <td>5.185130</td>\n",
       "      <td>12.433333</td>\n",
       "      <td>395</td>\n",
       "      <td>746</td>\n",
       "      <td>2.325737</td>\n",
       "      <td>7</td>\n",
       "      <td>8.183646</td>\n",
       "    </tr>\n",
       "    <tr>\n",
       "      <th>5</th>\n",
       "      <td>2893.8</td>\n",
       "      <td>https://insights.blackcoffer.com/rise-of-chatb...</td>\n",
       "      <td>48</td>\n",
       "      <td>11</td>\n",
       "      <td>0.627119</td>\n",
       "      <td>0.010481</td>\n",
       "      <td>10.523077</td>\n",
       "      <td>0.516082</td>\n",
       "      <td>4.415664</td>\n",
       "      <td>10.523077</td>\n",
       "      <td>353</td>\n",
       "      <td>684</td>\n",
       "      <td>2.305556</td>\n",
       "      <td>3</td>\n",
       "      <td>8.229532</td>\n",
       "    </tr>\n",
       "    <tr>\n",
       "      <th>6</th>\n",
       "      <td>3355.6</td>\n",
       "      <td>https://insights.blackcoffer.com/rise-of-e-hea...</td>\n",
       "      <td>32</td>\n",
       "      <td>10</td>\n",
       "      <td>0.523810</td>\n",
       "      <td>0.007902</td>\n",
       "      <td>13.955556</td>\n",
       "      <td>0.584395</td>\n",
       "      <td>5.815980</td>\n",
       "      <td>13.955556</td>\n",
       "      <td>367</td>\n",
       "      <td>628</td>\n",
       "      <td>2.445860</td>\n",
       "      <td>1</td>\n",
       "      <td>8.463376</td>\n",
       "    </tr>\n",
       "    <tr>\n",
       "      <th>7</th>\n",
       "      <td>3817.4</td>\n",
       "      <td>https://insights.blackcoffer.com/how-does-mark...</td>\n",
       "      <td>59</td>\n",
       "      <td>6</td>\n",
       "      <td>0.815385</td>\n",
       "      <td>0.008181</td>\n",
       "      <td>10.168421</td>\n",
       "      <td>0.526915</td>\n",
       "      <td>4.278134</td>\n",
       "      <td>10.168421</td>\n",
       "      <td>509</td>\n",
       "      <td>966</td>\n",
       "      <td>2.342650</td>\n",
       "      <td>5</td>\n",
       "      <td>8.224638</td>\n",
       "    </tr>\n",
       "    <tr>\n",
       "      <th>8</th>\n",
       "      <td>4279.2</td>\n",
       "      <td>https://insights.blackcoffer.com/how-advertise...</td>\n",
       "      <td>7</td>\n",
       "      <td>0</td>\n",
       "      <td>1.000000</td>\n",
       "      <td>0.003341</td>\n",
       "      <td>10.230769</td>\n",
       "      <td>0.451128</td>\n",
       "      <td>4.272759</td>\n",
       "      <td>10.230769</td>\n",
       "      <td>120</td>\n",
       "      <td>266</td>\n",
       "      <td>2.304511</td>\n",
       "      <td>1</td>\n",
       "      <td>7.875940</td>\n",
       "    </tr>\n",
       "    <tr>\n",
       "      <th>9</th>\n",
       "      <td>4741.0</td>\n",
       "      <td>https://insights.blackcoffer.com/negative-effe...</td>\n",
       "      <td>19</td>\n",
       "      <td>46</td>\n",
       "      <td>-0.415385</td>\n",
       "      <td>0.012700</td>\n",
       "      <td>12.280000</td>\n",
       "      <td>0.576547</td>\n",
       "      <td>5.142619</td>\n",
       "      <td>12.280000</td>\n",
       "      <td>354</td>\n",
       "      <td>614</td>\n",
       "      <td>2.434853</td>\n",
       "      <td>6</td>\n",
       "      <td>8.335505</td>\n",
       "    </tr>\n",
       "  </tbody>\n",
       "</table>\n",
       "</div>"
      ],
      "text/plain": [
       "   URL_ID                                                URL  Positive_score  \\\n",
       "0   123.0  https://insights.blackcoffer.com/rise-of-telem...              80   \n",
       "1   321.0  https://insights.blackcoffer.com/rise-of-e-hea...              38   \n",
       "2  2345.0  https://insights.blackcoffer.com/rise-of-e-hea...              18   \n",
       "3  4321.0  https://insights.blackcoffer.com/rise-of-telem...              35   \n",
       "4   432.0  https://insights.blackcoffer.com/rise-of-telem...              35   \n",
       "5  2893.8  https://insights.blackcoffer.com/rise-of-chatb...              48   \n",
       "6  3355.6  https://insights.blackcoffer.com/rise-of-e-hea...              32   \n",
       "7  3817.4  https://insights.blackcoffer.com/how-does-mark...              59   \n",
       "8  4279.2  https://insights.blackcoffer.com/how-advertise...               7   \n",
       "9  4741.0  https://insights.blackcoffer.com/negative-effe...              19   \n",
       "\n",
       "   Negative_score  Polarity_score  Subjectivity_score  \\\n",
       "0              23        0.553398            0.012268   \n",
       "1              13        0.490196            0.017647   \n",
       "2              27       -0.200000            0.009053   \n",
       "3              26        0.147541            0.009992   \n",
       "4              26        0.147541            0.009992   \n",
       "5              11        0.627119            0.010481   \n",
       "6              10        0.523810            0.007902   \n",
       "7               6        0.815385            0.008181   \n",
       "8               0        1.000000            0.003341   \n",
       "9              46       -0.415385            0.012700   \n",
       "\n",
       "   Average_Sentence_Length  Percentage_of_Complex_words  Fog_Index  \\\n",
       "0                12.512500                     0.587413   5.239965   \n",
       "1                13.280000                     0.635542   5.566217   \n",
       "2                 8.884058                     0.517129   3.760475   \n",
       "3                12.433333                     0.529491   5.185130   \n",
       "4                12.433333                     0.529491   5.185130   \n",
       "5                10.523077                     0.516082   4.415664   \n",
       "6                13.955556                     0.584395   5.815980   \n",
       "7                10.168421                     0.526915   4.278134   \n",
       "8                10.230769                     0.451128   4.272759   \n",
       "9                12.280000                     0.576547   5.142619   \n",
       "\n",
       "   Average_number_of_words_per_sentence  complex_word_count  word_count  \\\n",
       "0                             12.512500                 588        1001   \n",
       "1                             13.280000                 211         332   \n",
       "2                              8.884058                 317         613   \n",
       "3                             12.433333                 395         746   \n",
       "4                             12.433333                 395         746   \n",
       "5                             10.523077                 353         684   \n",
       "6                             13.955556                 367         628   \n",
       "7                             10.168421                 509         966   \n",
       "8                             10.230769                 120         266   \n",
       "9                             12.280000                 354         614   \n",
       "\n",
       "   Syllable_Count_Per_Word  personal_pronoun_count  Avg_Word_length  \n",
       "0                 2.678322                       2         8.387612  \n",
       "1                 2.629518                       3         8.704819  \n",
       "2                 2.199021                       3         8.109299  \n",
       "3                 2.325737                       7         8.183646  \n",
       "4                 2.325737                       7         8.183646  \n",
       "5                 2.305556                       3         8.229532  \n",
       "6                 2.445860                       1         8.463376  \n",
       "7                 2.342650                       5         8.224638  \n",
       "8                 2.304511                       1         7.875940  \n",
       "9                 2.434853                       6         8.335505  "
      ]
     },
     "execution_count": 105,
     "metadata": {},
     "output_type": "execute_result"
    }
   ],
   "source": [
    "output_data.head(10)"
   ]
  },
  {
   "cell_type": "code",
   "execution_count": null,
   "id": "3b1dbd21",
   "metadata": {},
   "outputs": [],
   "source": []
  }
 ],
 "metadata": {
  "kernelspec": {
   "display_name": "Python 3 (ipykernel)",
   "language": "python",
   "name": "python3"
  },
  "language_info": {
   "codemirror_mode": {
    "name": "ipython",
    "version": 3
   },
   "file_extension": ".py",
   "mimetype": "text/x-python",
   "name": "python",
   "nbconvert_exporter": "python",
   "pygments_lexer": "ipython3",
   "version": "3.9.12"
  }
 },
 "nbformat": 4,
 "nbformat_minor": 5
}
